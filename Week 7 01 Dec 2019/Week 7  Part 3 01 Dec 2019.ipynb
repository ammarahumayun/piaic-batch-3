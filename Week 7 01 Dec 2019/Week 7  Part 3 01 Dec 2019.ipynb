{
 "cells": [
  {
   "cell_type": "code",
   "execution_count": 4,
   "metadata": {},
   "outputs": [
    {
     "name": "stdout",
     "output_type": "stream",
     "text": [
      "True\n"
     ]
    }
   ],
   "source": [
    "#Membership operator\n",
    "\n",
    "names = [ 'Qasim', 'Hamza', 'junaid', 'Abid']\n",
    "for name in names:\n",
    "  if name == 'Qasim':\n",
    "    print(True)\n",
    "    #Tradtional logic"
   ]
  },
  {
   "cell_type": "code",
   "execution_count": 5,
   "metadata": {},
   "outputs": [
    {
     "data": {
      "text/plain": [
       "True"
      ]
     },
     "execution_count": 5,
     "metadata": {},
     "output_type": "execute_result"
    }
   ],
   "source": [
    "\"Qasim\" in names"
   ]
  },
  {
   "cell_type": "code",
   "execution_count": 9,
   "metadata": {},
   "outputs": [
    {
     "name": "stdout",
     "output_type": "stream",
     "text": [
      "namea\n"
     ]
    },
    {
     "data": {
      "text/plain": [
       "False"
      ]
     },
     "execution_count": 9,
     "metadata": {},
     "output_type": "execute_result"
    }
   ],
   "source": [
    "#names = [10]\n",
    "\n",
    "input (\"name\")\n",
    "\"pakistan\" in names\n"
   ]
  },
  {
   "cell_type": "code",
   "execution_count": 28,
   "metadata": {},
   "outputs": [
    {
     "data": {
      "text/plain": [
       "True"
      ]
     },
     "execution_count": 28,
     "metadata": {},
     "output_type": "execute_result"
    }
   ],
   "source": [
    "#names = ('a', 'b', 'c', 'pakistan')\n",
    "#input (\"name\")\n",
    "'pakistan' in names\n",
    "#check it, when I write pakistan, it should give TRUE, otherwise FALSE"
   ]
  },
  {
   "cell_type": "code",
   "execution_count": 21,
   "metadata": {},
   "outputs": [
    {
     "ename": "SyntaxError",
     "evalue": "invalid syntax (<ipython-input-21-9762146f5673>, line 2)",
     "output_type": "error",
     "traceback": [
      "\u001b[1;36m  File \u001b[1;32m\"<ipython-input-21-9762146f5673>\"\u001b[1;36m, line \u001b[1;32m2\u001b[0m\n\u001b[1;33m    input names= name\u001b[0m\n\u001b[1;37m              ^\u001b[0m\n\u001b[1;31mSyntaxError\u001b[0m\u001b[1;31m:\u001b[0m invalid syntax\n"
     ]
    }
   ],
   "source": [
    "names = ('a', 'b', 'c', 'pakistan')\n",
    "#input names= name\n",
    "\n",
    "'pakistan' in names\n",
    "#check it, when I write pakistan, it should give TRUE, otherwise FALSE"
   ]
  },
  {
   "cell_type": "markdown",
   "metadata": {},
   "source": [
    "# Identity Operator\n"
   ]
  },
  {
   "cell_type": "code",
   "execution_count": 14,
   "metadata": {},
   "outputs": [
    {
     "name": "stdout",
     "output_type": "stream",
     "text": [
      "False\n",
      "True\n"
     ]
    }
   ],
   "source": [
    "a= '5'\n",
    "b = 5\n",
    "c = a\n",
    "print (a==b)\n",
    "print (a==c)"
   ]
  },
  {
   "cell_type": "markdown",
   "metadata": {},
   "source": [
    "# Control Flow\n",
    "if, else elif"
   ]
  },
  {
   "cell_type": "raw",
   "metadata": {},
   "source": [
    "if Logic:\n",
    "    code run if logic is True\n",
    "else:\n",
    "    code run if logic is False\n",
    "    \n",
    "    \n",
    " no brackets like traditional programming"
   ]
  },
  {
   "cell_type": "code",
   "execution_count": 22,
   "metadata": {},
   "outputs": [
    {
     "name": "stdout",
     "output_type": "stream",
     "text": [
      "Pakistan\n"
     ]
    }
   ],
   "source": [
    "if True:\n",
    "    print (\"Pakistan\")\n",
    "else:\n",
    "    print (\"Zindabad\")"
   ]
  },
  {
   "cell_type": "code",
   "execution_count": 23,
   "metadata": {},
   "outputs": [
    {
     "name": "stdout",
     "output_type": "stream",
     "text": [
      "Zindabad\n"
     ]
    }
   ],
   "source": [
    "if False:\n",
    "    print (\"Pakistan\")\n",
    "else:\n",
    "    print (\"Zindabad\")"
   ]
  },
  {
   "cell_type": "code",
   "execution_count": 30,
   "metadata": {},
   "outputs": [
    {
     "name": "stdout",
     "output_type": "stream",
     "text": [
      "Pakistan\n",
      "Pakistan\n",
      "Pakistan\n"
     ]
    }
   ],
   "source": [
    "if True:\n",
    "    print (\"Pakistan\")\n",
    "    print (\"Pakistan\")\n",
    "    print (\"Pakistan\")\n",
    "else:\n",
    "    print (\"Zindabad\")"
   ]
  },
  {
   "cell_type": "code",
   "execution_count": 35,
   "metadata": {},
   "outputs": [],
   "source": [
    "#True_block if logic else False_block\n",
    "\n",
    "# it is comprehensive code\n",
    "\n",
    "\n",
    "# write the value on left which should be true. In centre, write your logic (True or False), on the right write what you\n",
    "#want to print in case of False logic"
   ]
  },
  {
   "cell_type": "code",
   "execution_count": 33,
   "metadata": {},
   "outputs": [
    {
     "data": {
      "text/plain": [
       "'Pakistan'"
      ]
     },
     "execution_count": 33,
     "metadata": {},
     "output_type": "execute_result"
    }
   ],
   "source": [
    "\"Pakistan\" if True else \"Zindabad\""
   ]
  },
  {
   "cell_type": "code",
   "execution_count": 34,
   "metadata": {},
   "outputs": [
    {
     "data": {
      "text/plain": [
       "'Zindabad'"
      ]
     },
     "execution_count": 34,
     "metadata": {},
     "output_type": "execute_result"
    }
   ],
   "source": [
    "\"Pakistan\" if False else \"Zindabad\""
   ]
  },
  {
   "cell_type": "code",
   "execution_count": null,
   "metadata": {},
   "outputs": [],
   "source": [
    "username = input (\"username\")\n",
    "password = input (\"password\")\n",
    "\n",
    "username == \"ammara\" or username == \"1234\" or username == \"email@email\" \\\n",
    "and password == 123\n",
    " #print (\"LOGIN SUCCESSFUL\")"
   ]
  },
  {
   "cell_type": "code",
   "execution_count": null,
   "metadata": {},
   "outputs": [],
   "source": [
    "username = input (\"username\")\n",
    "password = input (\"password\")\n",
    "\n",
    "username == \"ammara\" or username == \"1234\" or username == \"email@email\" \\\n",
    "and password == 123\n",
    " #print (\"LOGIN SUCCESSFUL\")"
   ]
  },
  {
   "cell_type": "code",
   "execution_count": null,
   "metadata": {},
   "outputs": [],
   "source": []
  },
  {
   "cell_type": "code",
   "execution_count": null,
   "metadata": {},
   "outputs": [],
   "source": []
  },
  {
   "cell_type": "code",
   "execution_count": null,
   "metadata": {},
   "outputs": [],
   "source": []
  }
 ],
 "metadata": {
  "kernelspec": {
   "display_name": "Python 3",
   "language": "python",
   "name": "python3"
  },
  "language_info": {
   "codemirror_mode": {
    "name": "ipython",
    "version": 3
   },
   "file_extension": ".py",
   "mimetype": "text/x-python",
   "name": "python",
   "nbconvert_exporter": "python",
   "pygments_lexer": "ipython3",
   "version": "3.7.3"
  }
 },
 "nbformat": 4,
 "nbformat_minor": 2
}
