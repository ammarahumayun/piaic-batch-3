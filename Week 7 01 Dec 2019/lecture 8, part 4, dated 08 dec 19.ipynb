{
 "cells": [
  {
   "cell_type": "code",
   "execution_count": 5,
   "metadata": {},
   "outputs": [
    {
     "name": "stdout",
     "output_type": "stream",
     "text": [
      "Enter Number:3\n",
      "1 X 1 = 1\n",
      "1 X 2 = 2\n",
      "1 X 3 = 3\n",
      "1 X 4 = 4\n",
      "1 X 5 = 5\n",
      "1 X 6 = 6\n",
      "1 X 7 = 7\n",
      "1 X 8 = 8\n",
      "1 X 9 = 9\n",
      "1 X 10 = 10\n",
      "\t\n",
      "2 X 1 = 2\n",
      "2 X 2 = 4\n",
      "2 X 3 = 6\n",
      "2 X 4 = 8\n",
      "2 X 5 = 10\n",
      "2 X 6 = 12\n",
      "2 X 7 = 14\n",
      "2 X 8 = 16\n",
      "2 X 9 = 18\n",
      "2 X 10 = 20\n",
      "\t\n",
      "3 X 1 = 3\n",
      "3 X 2 = 6\n",
      "3 X 3 = 9\n",
      "3 X 4 = 12\n",
      "3 X 5 = 15\n",
      "3 X 6 = 18\n",
      "3 X 7 = 21\n",
      "3 X 8 = 24\n",
      "3 X 9 = 27\n",
      "3 X 10 = 30\n",
      "\t\n"
     ]
    }
   ],
   "source": [
    " a = input (\"Enter Number:\" )\n",
    "n= int (a)\n",
    "for j in range (1, n+1):\n",
    "    for i in range  (1, 11, 1):\n",
    "        print (j, \"X\", i, \"=\", j*i)\n",
    "    print (\"\\t\")"
   ]
  },
  {
   "cell_type": "code",
   "execution_count": 18,
   "metadata": {},
   "outputs": [
    {
     "name": "stdout",
     "output_type": "stream",
     "text": [
      "Enter Number:3\n",
      "1 X 1 = 1  2 X 1 = 2  3 X 1 = 3  \n",
      "\n",
      "1 X 2 = 2  2 X 2 = 4  3 X 2 = 6  \n",
      "\n",
      "1 X 3 = 3  2 X 3 = 6  3 X 3 = 9  \n",
      "\n",
      "1 X 4 = 4  2 X 4 = 8  3 X 4 = 12  \n",
      "\n",
      "1 X 5 = 5  2 X 5 = 10  3 X 5 = 15  \n",
      "\n",
      "1 X 6 = 6  2 X 6 = 12  3 X 6 = 18  \n",
      "\n",
      "1 X 7 = 7  2 X 7 = 14  3 X 7 = 21  \n",
      "\n",
      "1 X 8 = 8  2 X 8 = 16  3 X 8 = 24  \n",
      "\n",
      "1 X 9 = 9  2 X 9 = 18  3 X 9 = 27  \n",
      "\n",
      "1 X 10 = 10  2 X 10 = 20  3 X 10 = 30  \n",
      "\n"
     ]
    }
   ],
   "source": [
    "a = input (\"Enter Number:\" )\n",
    "n= int (a)\n",
    "for i in range (1, 11, 1):\n",
    "    for j in range  (1, n+1):\n",
    "        print (j, \"X\", i, \"=\", j*i, end =(\"  \"))\n",
    "    print (\"\\n\")"
   ]
  },
  {
   "cell_type": "markdown",
   "metadata": {},
   "source": [
    "# Task 5\n"
   ]
  },
  {
   "cell_type": "code",
   "execution_count": null,
   "metadata": {},
   "outputs": [],
   "source": [
    "boy_walks_self_prop = \"Direct marketing\"\n",
    "print (boy_walk_self_prop)\n",
    "friiend_walks = \"Advertising\"\n",
    "girl_walks = \"Brand recognation\"\n",
    "slap = input (\"Slap? y/n\")\n",
    "if slap == \"y\":\n",
    "    print (\"customer Feedback\")\n",
    "else: \n",
    "    print (\"Accepted\")\n",
    "    \n",
    "    #----------------------------\n",
    "    "
   ]
  },
  {
   "cell_type": "code",
   "execution_count": null,
   "metadata": {},
   "outputs": [],
   "source": []
  },
  {
   "cell_type": "code",
   "execution_count": null,
   "metadata": {},
   "outputs": [],
   "source": []
  }
 ],
 "metadata": {
  "kernelspec": {
   "display_name": "Python 3",
   "language": "python",
   "name": "python3"
  },
  "language_info": {
   "codemirror_mode": {
    "name": "ipython",
    "version": 3
   },
   "file_extension": ".py",
   "mimetype": "text/x-python",
   "name": "python",
   "nbconvert_exporter": "python",
   "pygments_lexer": "ipython3",
   "version": "3.7.3"
  }
 },
 "nbformat": 4,
 "nbformat_minor": 2
}
