{
 "cells": [
  {
   "cell_type": "code",
   "execution_count": null,
   "metadata": {},
   "outputs": [],
   "source": [
    " a = input (\"Enter Number:\" )\n",
    "n= int (a)\n",
    "for j in range (1, n+1):\n",
    "    for i in range  (1, 11, 1):\n",
    "        print (j, \"X\", i, \"=\", j*i)\n",
    "        print (end =\" \")\n",
    "    "
   ]
  },
  {
   "cell_type": "code",
   "execution_count": null,
   "metadata": {},
   "outputs": [],
   "source": []
  },
  {
   "cell_type": "raw",
   "metadata": {},
   "source": [
    "Task 4\n",
    "divide following numbers with 5 and return the raw and column number if divided by 5.\n",
    "\n",
    "[[2, 5, 9],\n",
    "[8, 9, 10],\n",
    "[20, 30, 27]\n",
    "[35, 9, 20]]\n",
    "\n",
    "\n",
    "[[(1, 1)]]\n",
    "[(2, 2)]\n",
    "[(3, 0), (3, 1)]\n",
    "[(4,1). (4,2)]"
   ]
  },
  {
   "cell_type": "code",
   "execution_count": null,
   "metadata": {},
   "outputs": [],
   "source": [
    "#enumerate (list)  .......... it gives output in a way that (index number, entity in a list)"
   ]
  }
 ],
 "metadata": {
  "kernelspec": {
   "display_name": "Python 3",
   "language": "python",
   "name": "python3"
  },
  "language_info": {
   "codemirror_mode": {
    "name": "ipython",
    "version": 3
   },
   "file_extension": ".py",
   "mimetype": "text/x-python",
   "name": "python",
   "nbconvert_exporter": "python",
   "pygments_lexer": "ipython3",
   "version": "3.7.3"
  }
 },
 "nbformat": 4,
 "nbformat_minor": 2
}
