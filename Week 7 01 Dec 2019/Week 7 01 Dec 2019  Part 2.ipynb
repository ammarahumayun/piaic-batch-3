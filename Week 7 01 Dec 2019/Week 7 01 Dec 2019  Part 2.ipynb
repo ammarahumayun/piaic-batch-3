{
 "cells": [
  {
   "cell_type": "code",
   "execution_count": 1,
   "metadata": {},
   "outputs": [
    {
     "name": "stdout",
     "output_type": "stream",
     "text": [
      "a\n"
     ]
    }
   ],
   "source": [
    "print (\"a\")"
   ]
  },
  {
   "cell_type": "markdown",
   "metadata": {},
   "source": []
  },
  {
   "cell_type": "code",
   "execution_count": 5,
   "metadata": {},
   "outputs": [
    {
     "name": "stdout",
     "output_type": "stream",
     "text": [
      "usernameadmin\n",
      "Password123\n"
     ]
    },
    {
     "data": {
      "text/plain": [
       "[True]"
      ]
     },
     "execution_count": 5,
     "metadata": {},
     "output_type": "execute_result"
    }
   ],
   "source": [
    "username = input (\"username\")\n",
    "password = input (\"Password\")\n",
    "[(user == \"Ammara\") | (username == \"admin\") | (user == \"abc\") & (password == \"123\")]"
   ]
  },
  {
   "cell_type": "raw",
   "metadata": {},
   "source": [
    "8, 7, 6, 5, 4, 3, 2, 1, 0\n",
    "2, 2, 2, 2, 2, 2, 2, 2, 2\n",
    "==========================\n",
    "512,256,128,64,32,16,8,4,2,1\n",
    "\n",
    "\n",
    "Example\n",
    "  10011\n",
    "    \n",
    "  Right side\n",
    "\n",
    "  1      1\n",
    "  1      2           do not pick 0 s\n",
    "  1      16\n",
    "    \n",
    "    1 + 2 + 16 = 19    take LCM of 19, you will get binary of 10011\n",
    "    \n",
    "    \n",
    "    \n",
    " EXAMPLE  11101  =  1+ 4 + 8+ 16 = 29\n",
    " \n",
    " \n",
    " Now make code of 28 =====  11100"
   ]
  },
  {
   "cell_type": "markdown",
   "metadata": {},
   "source": [
    "\n",
    "# BITWISE OPERATOR"
   ]
  },
  {
   "cell_type": "raw",
   "metadata": {},
   "source": [
    "11101 = 29\n",
    "11100 = 28\n",
    "\n",
    "11101\n",
    "11100        #and operation\n",
    "------\n",
    "11100  = 28 \n",
    "\n",
    "\n",
    "To use this concept, use Bitwise operation"
   ]
  },
  {
   "cell_type": "code",
   "execution_count": 6,
   "metadata": {},
   "outputs": [
    {
     "data": {
      "text/plain": [
       "28"
      ]
     },
     "execution_count": 6,
     "metadata": {},
     "output_type": "execute_result"
    }
   ],
   "source": [
    "28 & 29"
   ]
  },
  {
   "cell_type": "code",
   "execution_count": 7,
   "metadata": {},
   "outputs": [
    {
     "data": {
      "text/plain": [
       "64"
      ]
     },
     "execution_count": 7,
     "metadata": {},
     "output_type": "execute_result"
    }
   ],
   "source": [
    "ord (\"A\") & ord (\"B\")"
   ]
  },
  {
   "cell_type": "raw",
   "metadata": {},
   "source": [
    "11101 = 29\n",
    "11100 = 28\n",
    "\n",
    "11101\n",
    "11100        #OR operation\n",
    "------\n",
    "11101  = 29"
   ]
  },
  {
   "cell_type": "code",
   "execution_count": 9,
   "metadata": {},
   "outputs": [
    {
     "data": {
      "text/plain": [
       "29"
      ]
     },
     "execution_count": 9,
     "metadata": {},
     "output_type": "execute_result"
    }
   ],
   "source": [
    "29 | 28"
   ]
  },
  {
   "cell_type": "raw",
   "metadata": {},
   "source": [
    "XOR   it make 1, 1 into zero and 0, 0 into zero\n",
    "11101 = 29\n",
    "11100 = 28\n",
    "\n",
    "11101\n",
    "11100        \n",
    "------\n",
    "00001  = 1\n",
    "\n",
    "now apply this logic in next cell"
   ]
  },
  {
   "cell_type": "code",
   "execution_count": 10,
   "metadata": {},
   "outputs": [
    {
     "data": {
      "text/plain": [
       "1"
      ]
     },
     "execution_count": 10,
     "metadata": {},
     "output_type": "execute_result"
    }
   ],
   "source": [
    "28 ^ 29"
   ]
  },
  {
   "cell_type": "code",
   "execution_count": 11,
   "metadata": {},
   "outputs": [
    {
     "data": {
      "text/plain": [
       "-30"
      ]
     },
     "execution_count": 11,
     "metadata": {},
     "output_type": "execute_result"
    }
   ],
   "source": [
    "# ~ is called compliment\n",
    "~29"
   ]
  },
  {
   "cell_type": "code",
   "execution_count": 12,
   "metadata": {},
   "outputs": [
    {
     "data": {
      "text/plain": [
       "1"
      ]
     },
     "execution_count": 12,
     "metadata": {},
     "output_type": "execute_result"
    }
   ],
   "source": [
    "~-2"
   ]
  },
  {
   "cell_type": "code",
   "execution_count": 13,
   "metadata": {},
   "outputs": [
    {
     "data": {
      "text/plain": [
       "-3"
      ]
     },
     "execution_count": 13,
     "metadata": {},
     "output_type": "execute_result"
    }
   ],
   "source": [
    "~2"
   ]
  },
  {
   "cell_type": "code",
   "execution_count": 15,
   "metadata": {},
   "outputs": [
    {
     "data": {
      "text/plain": [
       "116"
      ]
     },
     "execution_count": 15,
     "metadata": {},
     "output_type": "execute_result"
    }
   ],
   "source": [
    "#11101\n",
    "29 << 2   #left shift\n",
    "1110100"
   ]
  },
  {
   "cell_type": "code",
   "execution_count": 17,
   "metadata": {},
   "outputs": [
    {
     "data": {
      "text/plain": [
       "7"
      ]
     },
     "execution_count": 17,
     "metadata": {},
     "output_type": "execute_result"
    }
   ],
   "source": [
    "#Right ship\n",
    "#11101\n",
    "29 >> 2\n",
    "#00111"
   ]
  },
  {
   "cell_type": "code",
   "execution_count": 19,
   "metadata": {},
   "outputs": [
    {
     "data": {
      "text/plain": [
       "100"
      ]
     },
     "execution_count": 19,
     "metadata": {},
     "output_type": "execute_result"
    }
   ],
   "source": [
    "#11001  = 25\n",
    "# left shift  1100100\n",
    "25 << 2\n",
    "#00100"
   ]
  },
  {
   "cell_type": "code",
   "execution_count": null,
   "metadata": {},
   "outputs": [],
   "source": []
  },
  {
   "cell_type": "code",
   "execution_count": null,
   "metadata": {},
   "outputs": [],
   "source": []
  }
 ],
 "metadata": {
  "kernelspec": {
   "display_name": "Python 3",
   "language": "python",
   "name": "python3"
  },
  "language_info": {
   "codemirror_mode": {
    "name": "ipython",
    "version": 3
   },
   "file_extension": ".py",
   "mimetype": "text/x-python",
   "name": "python",
   "nbconvert_exporter": "python",
   "pygments_lexer": "ipython3",
   "version": "3.7.3"
  }
 },
 "nbformat": 4,
 "nbformat_minor": 2
}
