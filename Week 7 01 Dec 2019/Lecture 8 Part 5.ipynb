{
 "cells": [
  {
   "cell_type": "code",
   "execution_count": 4,
   "metadata": {},
   "outputs": [
    {
     "name": "stdout",
     "output_type": "stream",
     "text": [
      "Direct marketing\n",
      "Slap? y/ny\n",
      "customer Feedback\n"
     ]
    }
   ],
   "source": [
    "boy_walks_self_prop = \"Direct marketing\"\n",
    "print (boy_walks_self_prop)\n",
    "friend_walks = \"Advertising\"\n",
    "girl_walks = \"Brand recognation\"\n",
    "slap = input (\"Slap? y/n\")\n",
    "if slap == \"y\":\n",
    "    print (\"customer Feedback\")\n",
    "else: \n",
    "    print (\"Accepted\")\n",
    "    \n",
    "    #----------------------------\n",
    "    "
   ]
  },
  {
   "cell_type": "code",
   "execution_count": 12,
   "metadata": {},
   "outputs": [],
   "source": [
    "initiative = \"You\"\n",
    "rich = True\n",
    "slap = False\n",
    "if initiative == \"you\":\n",
    "    if rich == True and slap == True:\n",
    "        print (\"customer feedback\")\n",
    "    elif rich == False and slap == False:\n",
    "        print (\"Direct Marketing\")\n",
    "    elif husband == True:\n",
    "        print (\"Demand Supply Gap\")\n",
    "        \n",
    "#elif initiative == \"Friend\":\n",
    "    \n",
    "#elif initiative == \"Girl\":"
   ]
  },
  {
   "cell_type": "code",
   "execution_count": null,
   "metadata": {},
   "outputs": [],
   "source": []
  }
 ],
 "metadata": {
  "kernelspec": {
   "display_name": "Python 3",
   "language": "python",
   "name": "python3"
  },
  "language_info": {
   "codemirror_mode": {
    "name": "ipython",
    "version": 3
   },
   "file_extension": ".py",
   "mimetype": "text/x-python",
   "name": "python",
   "nbconvert_exporter": "python",
   "pygments_lexer": "ipython3",
   "version": "3.7.3"
  }
 },
 "nbformat": 4,
 "nbformat_minor": 2
}
