{
 "cells": [
  {
   "cell_type": "raw",
   "metadata": {},
   "source": [
    "# Task 3\n",
    "take input from user\n",
    "if user enter 3\n",
    "then your output\n",
    "\n",
    "1 X 1 =    2 X 1 =     3 X 1 =\n",
    "1 X 2 =    2 X 2 =     3 X 2 =\n"
   ]
  },
  {
   "cell_type": "code",
   "execution_count": 46,
   "metadata": {},
   "outputs": [
    {
     "name": "stdout",
     "output_type": "stream",
     "text": [
      "Enter a number:3\n",
      "Enter b number:3\n",
      "1  X  1  =  1\t2  X  1  =  2\t3  X  1  =  3\t\n",
      "1  X  2  =  2\t2  X  2  =  4\t3  X  2  =  6\t\n",
      "1  X  3  =  3\t2  X  3  =  6\t3  X  3  =  9\t\n"
     ]
    }
   ],
   "source": [
    "input1 = int (input(\"Enter a number:\"))\n",
    "input2 = int (input(\"Enter b number:\"))\n",
    "for j in range (1,input2+1,1):\n",
    "    for i in range (1, input1+1, 1):\n",
    "        print (i, \" X \", j, \" = \",i*j,end= \"\\t\" )\n",
    "    print (\"\")\n",
    "        "
   ]
  },
  {
   "cell_type": "code",
   "execution_count": null,
   "metadata": {},
   "outputs": [],
   "source": []
  }
 ],
 "metadata": {
  "kernelspec": {
   "display_name": "Python 3",
   "language": "python",
   "name": "python3"
  },
  "language_info": {
   "codemirror_mode": {
    "name": "ipython",
    "version": 3
   },
   "file_extension": ".py",
   "mimetype": "text/x-python",
   "name": "python",
   "nbconvert_exporter": "python",
   "pygments_lexer": "ipython3",
   "version": "3.7.3"
  }
 },
 "nbformat": 4,
 "nbformat_minor": 2
}
