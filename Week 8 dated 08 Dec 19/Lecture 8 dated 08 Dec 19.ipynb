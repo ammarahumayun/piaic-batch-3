{
 "cells": [
  {
   "cell_type": "markdown",
   "metadata": {},
   "source": [
    "# List Methods"
   ]
  },
  {
   "cell_type": "code",
   "execution_count": 1,
   "metadata": {},
   "outputs": [
    {
     "name": "stdout",
     "output_type": "stream",
     "text": [
      "['Qasim', 'Ali', 'Hamza', 7, 8, 9]\n"
     ]
    }
   ],
   "source": [
    "names = [\"Qasim\", \"Ali\", \"Hamza\", 7, 8, 9]\n",
    "print (names)"
   ]
  },
  {
   "cell_type": "code",
   "execution_count": 2,
   "metadata": {},
   "outputs": [],
   "source": [
    "#          0        1      2      3  4   5\n",
    "names = [\"Qasim\", \"Ali\", \"Hamza\", 7, 8, 9]\n",
    "#          -6      -5     -4      -3  -2  -1\n",
    "\n",
    "#slicing\n",
    "# list [ start: end: step]"
   ]
  },
  {
   "cell_type": "code",
   "execution_count": 3,
   "metadata": {},
   "outputs": [
    {
     "data": {
      "text/plain": [
       "['__add__',\n",
       " '__class__',\n",
       " '__contains__',\n",
       " '__delattr__',\n",
       " '__delitem__',\n",
       " '__dir__',\n",
       " '__doc__',\n",
       " '__eq__',\n",
       " '__format__',\n",
       " '__ge__',\n",
       " '__getattribute__',\n",
       " '__getitem__',\n",
       " '__gt__',\n",
       " '__hash__',\n",
       " '__iadd__',\n",
       " '__imul__',\n",
       " '__init__',\n",
       " '__init_subclass__',\n",
       " '__iter__',\n",
       " '__le__',\n",
       " '__len__',\n",
       " '__lt__',\n",
       " '__mul__',\n",
       " '__ne__',\n",
       " '__new__',\n",
       " '__reduce__',\n",
       " '__reduce_ex__',\n",
       " '__repr__',\n",
       " '__reversed__',\n",
       " '__rmul__',\n",
       " '__setattr__',\n",
       " '__setitem__',\n",
       " '__sizeof__',\n",
       " '__str__',\n",
       " '__subclasshook__',\n",
       " 'append',\n",
       " 'clear',\n",
       " 'copy',\n",
       " 'count',\n",
       " 'extend',\n",
       " 'index',\n",
       " 'insert',\n",
       " 'pop',\n",
       " 'remove',\n",
       " 'reverse',\n",
       " 'sort']"
      ]
     },
     "execution_count": 3,
     "metadata": {},
     "output_type": "execute_result"
    }
   ],
   "source": [
    "dir(list)"
   ]
  },
  {
   "cell_type": "code",
   "execution_count": 5,
   "metadata": {},
   "outputs": [
    {
     "name": "stdout",
     "output_type": "stream",
     "text": [
      "['A', 'B', 'C']\n"
     ]
    }
   ],
   "source": [
    "#add names that we would write in a program\n",
    "names = []\n",
    "names.append(\"A\")\n",
    "names.append(\"B\")\n",
    "names.append(\"C\")\n",
    "print (names)"
   ]
  },
  {
   "cell_type": "code",
   "execution_count": 7,
   "metadata": {},
   "outputs": [
    {
     "name": "stdout",
     "output_type": "stream",
     "text": [
      "['A', 'B', 'C']\n",
      "[]\n"
     ]
    }
   ],
   "source": [
    "#add names that we would write in a program then add clear to remove all the elements of a list\n",
    "names = []\n",
    "names.append(\"A\")\n",
    "names.append(\"B\")\n",
    "names.append(\"C\")\n",
    "print (names)\n",
    "\n",
    "names.clear()\n",
    "print (names)"
   ]
  },
  {
   "cell_type": "code",
   "execution_count": 15,
   "metadata": {},
   "outputs": [
    {
     "name": "stdout",
     "output_type": "stream",
     "text": [
      "['A', 'B', 'C']\n",
      "['A', 'B', 'C']\n",
      "['Z', 'B', 'C']\n",
      "['Z', 'B', 'C']\n"
     ]
    }
   ],
   "source": [
    "#add names that we would write in a program then add copy function\n",
    "names = []\n",
    "names.append(\"A\")\n",
    "names.append(\"B\")\n",
    "names.append(\"C\")\n",
    "\n",
    "names1 = names \n",
    "print (names1)\n",
    "print (names)\n",
    "\n",
    "\n",
    "names1[0] = \"Z\"\n",
    "print (names1)\n",
    "print (names)"
   ]
  },
  {
   "cell_type": "code",
   "execution_count": 16,
   "metadata": {},
   "outputs": [
    {
     "name": "stdout",
     "output_type": "stream",
     "text": [
      "names1 ['A', 'B', 'C']\n",
      "names ['A', 'B', 'C']\n",
      "names1 ['Z', 'B', 'C']\n",
      "names ['A', 'B', 'C']\n"
     ]
    }
   ],
   "source": [
    "names = []\n",
    "names.append(\"A\")\n",
    "names.append(\"B\")\n",
    "names.append(\"C\")\n",
    "\n",
    "names1 = names.copy()  #deep copy\n",
    "print (\"names1\", names1)\n",
    "print (\"names\", names)\n",
    "\n",
    "\n",
    "names1[0] = \"Z\"\n",
    "print (\"names1\", names1)\n",
    "print (\"names\", names)"
   ]
  },
  {
   "cell_type": "code",
   "execution_count": 17,
   "metadata": {},
   "outputs": [
    {
     "data": {
      "text/plain": [
       "1"
      ]
     },
     "execution_count": 17,
     "metadata": {},
     "output_type": "execute_result"
    }
   ],
   "source": [
    "names = [\"A\", \"B\", \"C\", \"D\"]\n",
    "names.count(\"A\")"
   ]
  },
  {
   "cell_type": "code",
   "execution_count": 18,
   "metadata": {},
   "outputs": [
    {
     "data": {
      "text/plain": [
       "2"
      ]
     },
     "execution_count": 18,
     "metadata": {},
     "output_type": "execute_result"
    }
   ],
   "source": [
    "names = [\"A\", \"B\", \"A\", \"C\", \"D\"]\n",
    "names.count(\"A\")"
   ]
  },
  {
   "cell_type": "code",
   "execution_count": 23,
   "metadata": {},
   "outputs": [
    {
     "data": {
      "text/plain": [
       "0"
      ]
     },
     "execution_count": 23,
     "metadata": {},
     "output_type": "execute_result"
    }
   ],
   "source": [
    "names = [\"A\", \"B\", \"A\", \"C\", \"D\"]\n",
    "names.count(names)"
   ]
  },
  {
   "cell_type": "code",
   "execution_count": 30,
   "metadata": {},
   "outputs": [
    {
     "name": "stdout",
     "output_type": "stream",
     "text": [
      "['A', 'B', 'C', 'X', 'Y', 'Z']\n",
      "['A', 'B', 'C']\n",
      "['X', 'Y', 'Z']\n"
     ]
    }
   ],
   "source": [
    "l1 = [\"A\", \"B\", \"C\"]\n",
    "l2 = [\"X\", \"Y\", \"Z\"]\n",
    "l3 = l1 + l2\n",
    "print (l3)\n",
    "print (l1)\n",
    "print (l2)"
   ]
  },
  {
   "cell_type": "code",
   "execution_count": 32,
   "metadata": {},
   "outputs": [
    {
     "name": "stdout",
     "output_type": "stream",
     "text": [
      "None\n",
      "['A', 'B', 'C', 'X', 'Y', 'Z']\n",
      "['X', 'Y', 'Z']\n"
     ]
    }
   ],
   "source": [
    "#same program as above\n",
    "l1 = [\"A\", \"B\", \"C\"]\n",
    "l2 = [\"X\", \"Y\", \"Z\"]\n",
    "l3 = l1.extend (l2)\n",
    "print (l3)\n",
    "#it did not return the outout variable l3 because extend is not returnable function\n",
    "print (l1)  #extend is an \"in memory operation\". So l1 is extended with l2. no change in l2, but l1 is extended.\n",
    "print (l2)"
   ]
  },
  {
   "cell_type": "code",
   "execution_count": 36,
   "metadata": {},
   "outputs": [
    {
     "name": "stdout",
     "output_type": "stream",
     "text": [
      "['A', 'B', 'C', 'A', 'X', 'Y', 'Z']\n"
     ]
    },
    {
     "data": {
      "text/plain": [
       "2"
      ]
     },
     "execution_count": 36,
     "metadata": {},
     "output_type": "execute_result"
    }
   ],
   "source": [
    "#to find index number of an element\n",
    "l1 = ['A', 'B', 'C', 'A', 'X', 'Y', 'Z']\n",
    "\n",
    "print (l1)\n",
    "l1.index (\"C\")"
   ]
  },
  {
   "cell_type": "code",
   "execution_count": 38,
   "metadata": {},
   "outputs": [
    {
     "name": "stdout",
     "output_type": "stream",
     "text": [
      "['A', 'B', 'C', 'A', 'X', 'Y', 'Z']\n"
     ]
    },
    {
     "data": {
      "text/plain": [
       "0"
      ]
     },
     "execution_count": 38,
     "metadata": {},
     "output_type": "execute_result"
    }
   ],
   "source": [
    "#to find index number of an element\n",
    "l1 = ['A', 'B', 'C', 'A', 'X', 'Y', 'Z']\n",
    "\n",
    "print (l1)\n",
    "l1.index (\"A\")\n",
    "#it will find the \"A\" which is on first position."
   ]
  },
  {
   "cell_type": "code",
   "execution_count": 42,
   "metadata": {},
   "outputs": [
    {
     "name": "stdout",
     "output_type": "stream",
     "text": [
      "['A', 'B', 'C', 'A', 'X', 'Y', 'Z']\n",
      "0\n",
      "3\n"
     ]
    }
   ],
   "source": [
    "#now we want to find \"A\" at index 3\n",
    "l1 = ['A', 'B', 'C', 'A', 'X', 'Y', 'Z']\n",
    "\n",
    "print (l1)\n",
    "print (l1. index(\"A\"))\n",
    "print (l1.index (\"A\", 1))\n",
    "#index is always in positive"
   ]
  },
  {
   "cell_type": "code",
   "execution_count": 44,
   "metadata": {},
   "outputs": [
    {
     "name": "stdout",
     "output_type": "stream",
     "text": [
      "['C', 'B', 'A']\n"
     ]
    }
   ],
   "source": [
    "#append places the value at the end, now we want to place an element at the start\n",
    "l1 =[]\n",
    "l1. insert (0, \"A\")\n",
    "l1. insert (0, \"B\")\n",
    "l1.insert (0, \"C\")\n",
    "print (l1)"
   ]
  },
  {
   "cell_type": "code",
   "execution_count": 45,
   "metadata": {},
   "outputs": [
    {
     "name": "stdout",
     "output_type": "stream",
     "text": [
      "['C', 'B', 'A']\n",
      "['C', 'D', 'B', 'A']\n"
     ]
    }
   ],
   "source": [
    "l1 =[]\n",
    "l1. insert (0, \"A\")\n",
    "l1. insert (0, \"B\")\n",
    "l1.insert (0, \"C\")\n",
    "print (l1)\n",
    "#insert D at index 1\n",
    "l1.insert (1, \"D\")\n",
    "print (l1)"
   ]
  },
  {
   "cell_type": "code",
   "execution_count": 47,
   "metadata": {},
   "outputs": [
    {
     "name": "stdout",
     "output_type": "stream",
     "text": [
      "['A', 'B']\n"
     ]
    }
   ],
   "source": [
    "#pop function removes an element from last. It is a returnable function. We can tell a specific index to remove a special \n",
    "# element)\n",
    "l1 = [\"A\", \"B\", \"C\"]\n",
    "l1.pop()\n",
    "print (l1)"
   ]
  },
  {
   "cell_type": "code",
   "execution_count": 49,
   "metadata": {},
   "outputs": [
    {
     "name": "stdout",
     "output_type": "stream",
     "text": [
      "['A', 'C']\n"
     ]
    }
   ],
   "source": [
    "l1 = [\"A\", \"B\", \"C\"]\n",
    "l1.pop(1)\n",
    "print (l1)\n",
    "\n",
    "#we can use del function to remove an element but it will not return the value and it will not save the history of removing\n",
    "# pop removes by index number\n",
    "# pop returns the value"
   ]
  },
  {
   "cell_type": "code",
   "execution_count": 52,
   "metadata": {},
   "outputs": [
    {
     "name": "stdout",
     "output_type": "stream",
     "text": [
      "['A', 'B', 'C', 'C', 'D', 'C']\n",
      "['A', 'B', 'C', 'D', 'C']\n",
      "['A', 'B', 'D', 'C']\n"
     ]
    }
   ],
   "source": [
    "#to remove an element by value (rather than index number), we use remove function\n",
    "# by default it will remove first value\n",
    "l1 = [\"A\", \"B\", \"C\", \"C\", \"D\", \"C\"]\n",
    "print (l1)\n",
    "l1.remove (\"C\")\n",
    "print (l1)\n",
    "l1.remove (\"C\")\n",
    "print (l1)"
   ]
  },
  {
   "cell_type": "code",
   "execution_count": 53,
   "metadata": {},
   "outputs": [
    {
     "name": "stdout",
     "output_type": "stream",
     "text": [
      "['A', 'Z', 'X', 'B', 'C', 'Y']\n",
      "['Y', 'C', 'B', 'X', 'Z', 'A']\n"
     ]
    }
   ],
   "source": [
    "#reverse function\n",
    "l1 = ['A', 'Z', 'X', 'B', 'C', 'Y']\n",
    "print(l1)\n",
    "l1.reverse()\n",
    "print (l1)"
   ]
  },
  {
   "cell_type": "code",
   "execution_count": 54,
   "metadata": {},
   "outputs": [
    {
     "name": "stdout",
     "output_type": "stream",
     "text": [
      "['A', 'Z', 'X', 'B', 'C', 'Y']\n",
      "['A', 'B', 'C', 'X', 'Y', 'Z']\n"
     ]
    }
   ],
   "source": [
    "l1 = ['A', 'Z', 'X', 'B', 'C', 'Y']\n",
    "print(l1)\n",
    "l1.sort() #it will convert l1 list in asceding order.\n",
    "print (l1)"
   ]
  },
  {
   "cell_type": "code",
   "execution_count": 58,
   "metadata": {},
   "outputs": [
    {
     "name": "stdout",
     "output_type": "stream",
     "text": [
      "['A', 'Z', 'X', 'B', 'C', 'Y']\n",
      "['Z', 'Y', 'X', 'C', 'B', 'A']\n"
     ]
    }
   ],
   "source": [
    "l1 = ['A', 'Z', 'X', 'B', 'C', 'Y']\n",
    "print(l1)\n",
    "l1.sort() #it will convert l1 list in asceding order.\n",
    "l1. reverse()\n",
    "print (l1)  #list is in descending order but it is not an efficient function"
   ]
  },
  {
   "cell_type": "code",
   "execution_count": 60,
   "metadata": {},
   "outputs": [
    {
     "name": "stdout",
     "output_type": "stream",
     "text": [
      "['A', 'Z', 'X', 'B', 'C', 'Y']\n",
      "['A', 'B', 'C', 'X', 'Y', 'Z']\n"
     ]
    }
   ],
   "source": [
    "l1 = ['A', 'Z', 'X', 'B', 'C', 'Y']\n",
    "print(l1)\n",
    "l1.sort(reverse = True) #it will convert l1 list in asceding order.\n",
    "l1. reverse()\n",
    "print (l1)\n",
    "#it is more efficient way"
   ]
  },
  {
   "cell_type": "code",
   "execution_count": 63,
   "metadata": {},
   "outputs": [
    {
     "name": "stdout",
     "output_type": "stream",
     "text": [
      "['A', 'B', 'C']\n"
     ]
    },
    {
     "data": {
      "text/plain": [
       "['A', 'B', 'C', 'D', 'E']"
      ]
     },
     "execution_count": 63,
     "metadata": {},
     "output_type": "execute_result"
    }
   ],
   "source": [
    "l1 = ['A', 'B', 'C']\n",
    "print (l1)\n",
    "l1.__add__(['D', 'E'])  #In line operation, not in-memory function. Means real value will not change"
   ]
  },
  {
   "cell_type": "code",
   "execution_count": 64,
   "metadata": {},
   "outputs": [
    {
     "data": {
      "text/plain": [
       "list"
      ]
     },
     "execution_count": 64,
     "metadata": {},
     "output_type": "execute_result"
    }
   ],
   "source": [
    "l1 = [\"A\", \"C\", 'D']\n",
    "l1. __class__"
   ]
  },
  {
   "cell_type": "code",
   "execution_count": 67,
   "metadata": {},
   "outputs": [
    {
     "name": "stdout",
     "output_type": "stream",
     "text": [
      "True\n",
      "False\n"
     ]
    }
   ],
   "source": [
    "l1 = [\"A\", \"C\", 'D']\n",
    "print (l1.__contains__(\"A\"))\n",
    "print (l1.__contains__(\"E\"))"
   ]
  },
  {
   "cell_type": "code",
   "execution_count": 74,
   "metadata": {},
   "outputs": [
    {
     "ename": "TypeError",
     "evalue": "'str' object is not callable",
     "output_type": "error",
     "traceback": [
      "\u001b[1;31m---------------------------------------------------------------------------\u001b[0m",
      "\u001b[1;31mTypeError\u001b[0m                                 Traceback (most recent call last)",
      "\u001b[1;32m<ipython-input-74-67d224c26a83>\u001b[0m in \u001b[0;36m<module>\u001b[1;34m\u001b[0m\n\u001b[0;32m      1\u001b[0m \u001b[0ml1\u001b[0m \u001b[1;33m=\u001b[0m \u001b[1;33m[\u001b[0m\u001b[1;34m\"A\"\u001b[0m\u001b[1;33m,\u001b[0m \u001b[1;34m\"C\"\u001b[0m\u001b[1;33m,\u001b[0m \u001b[1;34m'D'\u001b[0m\u001b[1;33m]\u001b[0m\u001b[1;33m\u001b[0m\u001b[1;33m\u001b[0m\u001b[0m\n\u001b[1;32m----> 2\u001b[1;33m \u001b[0ml1\u001b[0m\u001b[1;33m.\u001b[0m\u001b[0m__doc__\u001b[0m\u001b[1;33m(\u001b[0m\u001b[1;33m)\u001b[0m\u001b[1;33m\u001b[0m\u001b[1;33m\u001b[0m\u001b[0m\n\u001b[0m",
      "\u001b[1;31mTypeError\u001b[0m: 'str' object is not callable"
     ]
    }
   ],
   "source": [
    "l1 = [\"A\", \"C\", 'D']\n",
    "l1.__doc__()"
   ]
  },
  {
   "cell_type": "code",
   "execution_count": 75,
   "metadata": {},
   "outputs": [
    {
     "name": "stdout",
     "output_type": "stream",
     "text": [
      "True\n"
     ]
    }
   ],
   "source": [
    "l1 = [5, 7, 8]\n",
    "l2 = [3, 5, 6]\n",
    "l3 = [7, 9, 10]\n",
    "print (l1.__ge__(l2))"
   ]
  },
  {
   "cell_type": "code",
   "execution_count": 76,
   "metadata": {},
   "outputs": [
    {
     "name": "stdout",
     "output_type": "stream",
     "text": [
      "True\n",
      "False\n"
     ]
    }
   ],
   "source": [
    "l1 = [5, 7, 8]\n",
    "l2 = [3, 5, 6]\n",
    "l3 = [7, 9, 10]\n",
    "print (l1.__ge__(l2)) #great and equal = ge\n",
    "print (l1.__ge__(l3))"
   ]
  },
  {
   "cell_type": "code",
   "execution_count": 83,
   "metadata": {},
   "outputs": [
    {
     "name": "stdout",
     "output_type": "stream",
     "text": [
      "3\n"
     ]
    },
    {
     "ename": "NameError",
     "evalue": "name 'l1__lt__' is not defined",
     "output_type": "error",
     "traceback": [
      "\u001b[1;31m---------------------------------------------------------------------------\u001b[0m",
      "\u001b[1;31mNameError\u001b[0m                                 Traceback (most recent call last)",
      "\u001b[1;32m<ipython-input-83-f9f1717ae54d>\u001b[0m in \u001b[0;36m<module>\u001b[1;34m\u001b[0m\n\u001b[0;32m      1\u001b[0m \u001b[0mprint\u001b[0m \u001b[1;33m(\u001b[0m\u001b[0mlen\u001b[0m\u001b[1;33m(\u001b[0m\u001b[0ml1\u001b[0m\u001b[1;33m)\u001b[0m\u001b[1;33m)\u001b[0m\u001b[1;33m\u001b[0m\u001b[1;33m\u001b[0m\u001b[0m\n\u001b[1;32m----> 2\u001b[1;33m \u001b[0mprint\u001b[0m \u001b[1;33m(\u001b[0m\u001b[0ml1__lt__\u001b[0m\u001b[1;33m(\u001b[0m\u001b[1;33m)\u001b[0m\u001b[1;33m)\u001b[0m\u001b[1;33m\u001b[0m\u001b[1;33m\u001b[0m\u001b[0m\n\u001b[0m",
      "\u001b[1;31mNameError\u001b[0m: name 'l1__lt__' is not defined"
     ]
    }
   ],
   "source": [
    "print (len(l1))\n",
    "print (l1__lt__())"
   ]
  },
  {
   "cell_type": "code",
   "execution_count": 82,
   "metadata": {},
   "outputs": [],
   "source": [
    "#for repition, use loop\n",
    "# to stop repition, use function"
   ]
  },
  {
   "cell_type": "code",
   "execution_count": 84,
   "metadata": {},
   "outputs": [
    {
     "data": {
      "text/plain": [
       "['__add__',\n",
       " '__class__',\n",
       " '__contains__',\n",
       " '__delattr__',\n",
       " '__delitem__',\n",
       " '__dir__',\n",
       " '__doc__',\n",
       " '__eq__',\n",
       " '__format__',\n",
       " '__ge__',\n",
       " '__getattribute__',\n",
       " '__getitem__',\n",
       " '__gt__',\n",
       " '__hash__',\n",
       " '__iadd__',\n",
       " '__imul__',\n",
       " '__init__',\n",
       " '__init_subclass__',\n",
       " '__iter__',\n",
       " '__le__',\n",
       " '__len__',\n",
       " '__lt__',\n",
       " '__mul__',\n",
       " '__ne__',\n",
       " '__new__',\n",
       " '__reduce__',\n",
       " '__reduce_ex__',\n",
       " '__repr__',\n",
       " '__reversed__',\n",
       " '__rmul__',\n",
       " '__setattr__',\n",
       " '__setitem__',\n",
       " '__sizeof__',\n",
       " '__str__',\n",
       " '__subclasshook__',\n",
       " 'append',\n",
       " 'clear',\n",
       " 'copy',\n",
       " 'count',\n",
       " 'extend',\n",
       " 'index',\n",
       " 'insert',\n",
       " 'pop',\n",
       " 'remove',\n",
       " 'reverse',\n",
       " 'sort']"
      ]
     },
     "execution_count": 84,
     "metadata": {},
     "output_type": "execute_result"
    }
   ],
   "source": [
    "dir(list)"
   ]
  },
  {
   "cell_type": "code",
   "execution_count": 85,
   "metadata": {},
   "outputs": [],
   "source": [
    "#LOOP"
   ]
  },
  {
   "cell_type": "raw",
   "metadata": {},
   "source": [
    "#counter  (for initalization)\n",
    "# Logic\n",
    "# Increment/ Decrement\n",
    "\n",
    "types of loop\n",
    "1. while\n",
    "2. for"
   ]
  },
  {
   "cell_type": "code",
   "execution_count": 92,
   "metadata": {},
   "outputs": [
    {
     "name": "stdout",
     "output_type": "stream",
     "text": [
      "1\n",
      "2\n",
      "3\n",
      "4\n",
      "5\n",
      "6\n",
      "7\n",
      "8\n",
      "9\n",
      "10\n"
     ]
    }
   ],
   "source": [
    "counter = 1\n",
    "while counter <= 10:\n",
    "    print ( counter)\n",
    "    counter +=1"
   ]
  },
  {
   "cell_type": "code",
   "execution_count": 93,
   "metadata": {},
   "outputs": [
    {
     "name": "stdout",
     "output_type": "stream",
     "text": [
      "Pakistan 1\n",
      "Pakistan 2\n",
      "Pakistan 3\n",
      "Pakistan 4\n",
      "Pakistan 5\n",
      "Pakistan 6\n",
      "Pakistan 7\n",
      "Pakistan 8\n",
      "Pakistan 9\n",
      "Pakistan 10\n"
     ]
    }
   ],
   "source": [
    "counter = 1\n",
    "while counter <= 10:\n",
    "    print (\"Pakistan\", counter)\n",
    "    counter +=1"
   ]
  },
  {
   "cell_type": "code",
   "execution_count": 98,
   "metadata": {},
   "outputs": [
    {
     "name": "stdout",
     "output_type": "stream",
     "text": [
      "Pakistan 1\n",
      "Pakistan 2\n",
      "Pakistan 3\n",
      "Pakistan 4\n",
      "Pakistan 5\n",
      "Pakistan 6\n",
      "Pakistan 7\n",
      "Pakistan 8\n",
      "Pakistan 9\n",
      "Pakistan 10\n"
     ]
    }
   ],
   "source": [
    "#use for loop\n",
    "\n",
    "for i in range (1, 11): #end value is not included, so 11 means it will give 10 entities\n",
    "    print (\"Pakistan\", i)"
   ]
  },
  {
   "cell_type": "code",
   "execution_count": 101,
   "metadata": {},
   "outputs": [
    {
     "data": {
      "text/plain": [
       "['Pakistan1',\n",
       " 'Pakistan2',\n",
       " 'Pakistan3',\n",
       " 'Pakistan4',\n",
       " 'Pakistan5',\n",
       " 'Pakistan6',\n",
       " 'Pakistan7',\n",
       " 'Pakistan8',\n",
       " 'Pakistan9',\n",
       " 'Pakistan10']"
      ]
     },
     "execution_count": 101,
     "metadata": {},
     "output_type": "execute_result"
    }
   ],
   "source": [
    "[\"Pakistan\" + str (x) for x in range (1, 11)]  #all syntex in same line"
   ]
  },
  {
   "cell_type": "code",
   "execution_count": 103,
   "metadata": {},
   "outputs": [
    {
     "name": "stdout",
     "output_type": "stream",
     "text": [
      "2 X 1 = 2\n",
      "2 X 2 = 4\n",
      "2 X 3 = 6\n",
      "2 X 4 = 8\n",
      "2 X 5 = 10\n",
      "2 X 6 = 12\n",
      "2 X 7 = 14\n",
      "2 X 8 = 16\n",
      "2 X 9 = 18\n",
      "2 X 10 = 20\n"
     ]
    }
   ],
   "source": [
    "for i in range  (1, 11):\n",
    "    print (2, \"X\", i, \"=\", 2*i)"
   ]
  },
  {
   "cell_type": "code",
   "execution_count": 112,
   "metadata": {},
   "outputs": [
    {
     "name": "stdout",
     "output_type": "stream",
     "text": [
      "2 X 1 =2\n",
      "2 X 2 =4\n",
      "2 X 3 =6\n",
      "2 X 4 =8\n",
      "2 X 5 =10\n",
      "2 X 6 =12\n",
      "2 X 7 =14\n",
      "2 X 8 =16\n",
      "2 X 9 =18\n",
      "2 X 10 =20\n"
     ]
    }
   ],
   "source": [
    "#now write same program in concetenation form\n",
    "for i in range  (1, 11):\n",
    "    print (2, \"X \"+ str(i) + \" =\" + str(2*i))\n",
    "    #for concetenation we use str"
   ]
  },
  {
   "cell_type": "markdown",
   "metadata": {},
   "source": [
    "# Tuple"
   ]
  },
  {
   "cell_type": "code",
   "execution_count": 114,
   "metadata": {
    "scrolled": true
   },
   "outputs": [
    {
     "data": {
      "text/plain": [
       "['__add__',\n",
       " '__class__',\n",
       " '__contains__',\n",
       " '__delattr__',\n",
       " '__dir__',\n",
       " '__doc__',\n",
       " '__eq__',\n",
       " '__format__',\n",
       " '__ge__',\n",
       " '__getattribute__',\n",
       " '__getitem__',\n",
       " '__getnewargs__',\n",
       " '__gt__',\n",
       " '__hash__',\n",
       " '__init__',\n",
       " '__init_subclass__',\n",
       " '__iter__',\n",
       " '__le__',\n",
       " '__len__',\n",
       " '__lt__',\n",
       " '__mul__',\n",
       " '__ne__',\n",
       " '__new__',\n",
       " '__reduce__',\n",
       " '__reduce_ex__',\n",
       " '__repr__',\n",
       " '__rmul__',\n",
       " '__setattr__',\n",
       " '__sizeof__',\n",
       " '__str__',\n",
       " '__subclasshook__',\n",
       " 'count',\n",
       " 'index']"
      ]
     },
     "execution_count": 114,
     "metadata": {},
     "output_type": "execute_result"
    }
   ],
   "source": [
    "dir(tuple)\n"
   ]
  },
  {
   "cell_type": "code",
   "execution_count": 115,
   "metadata": {},
   "outputs": [],
   "source": [
    "#mostly used count and index"
   ]
  },
  {
   "cell_type": "code",
   "execution_count": 117,
   "metadata": {},
   "outputs": [
    {
     "data": {
      "text/plain": [
       "2"
      ]
     },
     "execution_count": 117,
     "metadata": {},
     "output_type": "execute_result"
    }
   ],
   "source": [
    "a = (1, 2, 3, 2, 1)\n",
    "a.count (2)"
   ]
  },
  {
   "cell_type": "code",
   "execution_count": 118,
   "metadata": {},
   "outputs": [
    {
     "data": {
      "text/plain": [
       "2"
      ]
     },
     "execution_count": 118,
     "metadata": {},
     "output_type": "execute_result"
    }
   ],
   "source": [
    "a. index (3)"
   ]
  },
  {
   "cell_type": "raw",
   "metadata": {},
   "source": [
    "TASK  Take 3 things name, father name and contact number. Then computer asks do you want to add more data. If we\n",
    "we say yes, it takes more input and if we write no, it should exit"
   ]
  },
  {
   "cell_type": "code",
   "execution_count": 136,
   "metadata": {},
   "outputs": [
    {
     "ename": "SyntaxError",
     "evalue": "unexpected EOF while parsing (<ipython-input-136-2a18e096c8da>, line 9)",
     "output_type": "error",
     "traceback": [
      "\u001b[1;36m  File \u001b[1;32m\"<ipython-input-136-2a18e096c8da>\"\u001b[1;36m, line \u001b[1;32m9\u001b[0m\n\u001b[1;33m    #print (l1)\u001b[0m\n\u001b[1;37m               ^\u001b[0m\n\u001b[1;31mSyntaxError\u001b[0m\u001b[1;31m:\u001b[0m unexpected EOF while parsing\n"
     ]
    }
   ],
   "source": [
    "#counter = y\n",
    " \n",
    "a = input (\"Name:\")\n",
    "b = input (\"Father name:\")\n",
    "c = input (\"Contact no:\")\n",
    "l1 = [a, b, c]\n",
    "d = input (\"do you want more data? y/n\")\n",
    "if  d == \"y\":\n",
    "    #print (l1)"
   ]
  },
  {
   "cell_type": "markdown",
   "metadata": {},
   "source": [
    "# Tasks"
   ]
  },
  {
   "cell_type": "raw",
   "metadata": {},
   "source": [
    "1. print value 1000 to 990 with (while and for loop)"
   ]
  },
  {
   "cell_type": "code",
   "execution_count": null,
   "metadata": {},
   "outputs": [],
   "source": [
    "counter = 1000\n",
    "while counter >= 990:\n",
    "     print (counter)\n",
    "    counter -= 1\n",
    "   # print (counter)"
   ]
  },
  {
   "cell_type": "code",
   "execution_count": null,
   "metadata": {},
   "outputs": [],
   "source": [
    "counter = 1000\n",
    "while counter >= 990:\n",
    "    print ( counter)\n",
    "    counter -=1"
   ]
  },
  {
   "cell_type": "code",
   "execution_count": null,
   "metadata": {},
   "outputs": [],
   "source": []
  }
 ],
 "metadata": {
  "kernelspec": {
   "display_name": "Python 3",
   "language": "python",
   "name": "python3"
  },
  "language_info": {
   "codemirror_mode": {
    "name": "ipython",
    "version": 3
   },
   "file_extension": ".py",
   "mimetype": "text/x-python",
   "name": "python",
   "nbconvert_exporter": "python",
   "pygments_lexer": "ipython3",
   "version": "3.7.3"
  }
 },
 "nbformat": 4,
 "nbformat_minor": 2
}
